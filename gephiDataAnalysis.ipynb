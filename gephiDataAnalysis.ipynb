{
 "cells": [
  {
   "cell_type": "code",
   "execution_count": 1,
   "metadata": {
    "collapsed": true
   },
   "outputs": [],
   "source": [
    "import pandas as pd\n",
    "import numpy as np"
   ]
  },
  {
   "cell_type": "code",
   "execution_count": 10,
   "metadata": {
    "collapsed": true
   },
   "outputs": [],
   "source": [
    "data = pd.read_csv('AD_Data_annoted.csv')"
   ]
  },
  {
   "cell_type": "code",
   "execution_count": 11,
   "metadata": {
    "scrolled": true
   },
   "outputs": [
    {
     "data": {
      "text/html": [
       "<div>\n",
       "<style scoped>\n",
       "    .dataframe tbody tr th:only-of-type {\n",
       "        vertical-align: middle;\n",
       "    }\n",
       "\n",
       "    .dataframe tbody tr th {\n",
       "        vertical-align: top;\n",
       "    }\n",
       "\n",
       "    .dataframe thead th {\n",
       "        text-align: right;\n",
       "    }\n",
       "</style>\n",
       "<table border=\"1\" class=\"dataframe\">\n",
       "  <thead>\n",
       "    <tr style=\"text-align: right;\">\n",
       "      <th></th>\n",
       "      <th>Unnamed: 0</th>\n",
       "      <th>ENTREZID</th>\n",
       "      <th>ENSEMBL</th>\n",
       "      <th>GENENAME</th>\n",
       "      <th>SYMBOL</th>\n",
       "      <th>Label</th>\n",
       "      <th>timeset</th>\n",
       "      <th>modularity_class</th>\n",
       "      <th>pageranks</th>\n",
       "    </tr>\n",
       "  </thead>\n",
       "  <tbody>\n",
       "    <tr>\n",
       "      <th>0</th>\n",
       "      <td>1</td>\n",
       "      <td>10</td>\n",
       "      <td>ENSG00000156006</td>\n",
       "      <td>N-acetyltransferase 2</td>\n",
       "      <td>NAT2</td>\n",
       "      <td>10</td>\n",
       "      <td>NaN</td>\n",
       "      <td>20</td>\n",
       "      <td>0.000530</td>\n",
       "    </tr>\n",
       "    <tr>\n",
       "      <th>1</th>\n",
       "      <td>2</td>\n",
       "      <td>10002</td>\n",
       "      <td>ENSG00000278570</td>\n",
       "      <td>nuclear receptor subfamily 2 group E member 3</td>\n",
       "      <td>NR2E3</td>\n",
       "      <td>10002</td>\n",
       "      <td>NaN</td>\n",
       "      <td>20</td>\n",
       "      <td>0.000618</td>\n",
       "    </tr>\n",
       "    <tr>\n",
       "      <th>2</th>\n",
       "      <td>3</td>\n",
       "      <td>10006</td>\n",
       "      <td>ENSG00000136754</td>\n",
       "      <td>abl interactor 1</td>\n",
       "      <td>ABI1</td>\n",
       "      <td>10006</td>\n",
       "      <td>NaN</td>\n",
       "      <td>19</td>\n",
       "      <td>0.000632</td>\n",
       "    </tr>\n",
       "    <tr>\n",
       "      <th>3</th>\n",
       "      <td>4</td>\n",
       "      <td>100113407</td>\n",
       "      <td>ENSG00000205269</td>\n",
       "      <td>transmembrane protein 170B</td>\n",
       "      <td>TMEM170B</td>\n",
       "      <td>100113407</td>\n",
       "      <td>NaN</td>\n",
       "      <td>2</td>\n",
       "      <td>0.000519</td>\n",
       "    </tr>\n",
       "    <tr>\n",
       "      <th>4</th>\n",
       "      <td>5</td>\n",
       "      <td>100126793</td>\n",
       "      <td>ENSG00000240288</td>\n",
       "      <td>ghrelin opposite strand/antisense RNA</td>\n",
       "      <td>GHRLOS</td>\n",
       "      <td>100126793</td>\n",
       "      <td>NaN</td>\n",
       "      <td>26</td>\n",
       "      <td>0.000530</td>\n",
       "    </tr>\n",
       "  </tbody>\n",
       "</table>\n",
       "</div>"
      ],
      "text/plain": [
       "   Unnamed: 0   ENTREZID          ENSEMBL  \\\n",
       "0           1         10  ENSG00000156006   \n",
       "1           2      10002  ENSG00000278570   \n",
       "2           3      10006  ENSG00000136754   \n",
       "3           4  100113407  ENSG00000205269   \n",
       "4           5  100126793  ENSG00000240288   \n",
       "\n",
       "                                        GENENAME    SYMBOL      Label  \\\n",
       "0                          N-acetyltransferase 2      NAT2         10   \n",
       "1  nuclear receptor subfamily 2 group E member 3     NR2E3      10002   \n",
       "2                               abl interactor 1      ABI1      10006   \n",
       "3                     transmembrane protein 170B  TMEM170B  100113407   \n",
       "4          ghrelin opposite strand/antisense RNA    GHRLOS  100126793   \n",
       "\n",
       "   timeset  modularity_class  pageranks  \n",
       "0      NaN                20   0.000530  \n",
       "1      NaN                20   0.000618  \n",
       "2      NaN                19   0.000632  \n",
       "3      NaN                 2   0.000519  \n",
       "4      NaN                26   0.000530  "
      ]
     },
     "execution_count": 11,
     "metadata": {},
     "output_type": "execute_result"
    }
   ],
   "source": [
    "data.head()"
   ]
  },
  {
   "cell_type": "code",
   "execution_count": 12,
   "metadata": {},
   "outputs": [
    {
     "name": "stdout",
     "output_type": "stream",
     "text": [
      "0.002234 0.000512\n"
     ]
    }
   ],
   "source": [
    "print(data['pageranks'].max(), data['pageranks'].min())"
   ]
  },
  {
   "cell_type": "code",
   "execution_count": 13,
   "metadata": {
    "collapsed": true
   },
   "outputs": [],
   "source": [
    "reportedGene = pd.read_csv('ADgene', header = None)"
   ]
  },
  {
   "cell_type": "code",
   "execution_count": 14,
   "metadata": {
    "collapsed": true
   },
   "outputs": [],
   "source": [
    "reportedGene= reportedGene.groupby(0, group_keys=True).max().reset_index()"
   ]
  },
  {
   "cell_type": "code",
   "execution_count": 15,
   "metadata": {},
   "outputs": [
    {
     "name": "stdout",
     "output_type": "stream",
     "text": [
      "(55, 1)\n"
     ]
    },
    {
     "data": {
      "text/html": [
       "<div>\n",
       "<style scoped>\n",
       "    .dataframe tbody tr th:only-of-type {\n",
       "        vertical-align: middle;\n",
       "    }\n",
       "\n",
       "    .dataframe tbody tr th {\n",
       "        vertical-align: top;\n",
       "    }\n",
       "\n",
       "    .dataframe thead th {\n",
       "        text-align: right;\n",
       "    }\n",
       "</style>\n",
       "<table border=\"1\" class=\"dataframe\">\n",
       "  <thead>\n",
       "    <tr style=\"text-align: right;\">\n",
       "      <th></th>\n",
       "      <th>0</th>\n",
       "    </tr>\n",
       "  </thead>\n",
       "  <tbody>\n",
       "    <tr>\n",
       "      <th>0</th>\n",
       "      <td>ABCA7</td>\n",
       "    </tr>\n",
       "    <tr>\n",
       "      <th>1</th>\n",
       "      <td>AC074212.3</td>\n",
       "    </tr>\n",
       "    <tr>\n",
       "      <th>2</th>\n",
       "      <td>ACE</td>\n",
       "    </tr>\n",
       "    <tr>\n",
       "      <th>3</th>\n",
       "      <td>ADAM10</td>\n",
       "    </tr>\n",
       "    <tr>\n",
       "      <th>4</th>\n",
       "      <td>ADAMTS4</td>\n",
       "    </tr>\n",
       "  </tbody>\n",
       "</table>\n",
       "</div>"
      ],
      "text/plain": [
       "            0\n",
       "0       ABCA7\n",
       "1  AC074212.3\n",
       "2         ACE\n",
       "3      ADAM10\n",
       "4     ADAMTS4"
      ]
     },
     "execution_count": 15,
     "metadata": {},
     "output_type": "execute_result"
    }
   ],
   "source": [
    "print(reportedGene.shape)\n",
    "reportedGene.head()"
   ]
  },
  {
   "cell_type": "code",
   "execution_count": 16,
   "metadata": {
    "collapsed": true
   },
   "outputs": [],
   "source": [
    "reportedGene.to_csv('AD_gene_unique.csv')"
   ]
  },
  {
   "cell_type": "code",
   "execution_count": 17,
   "metadata": {},
   "outputs": [
    {
     "data": {
      "text/html": [
       "<div>\n",
       "<style scoped>\n",
       "    .dataframe tbody tr th:only-of-type {\n",
       "        vertical-align: middle;\n",
       "    }\n",
       "\n",
       "    .dataframe tbody tr th {\n",
       "        vertical-align: top;\n",
       "    }\n",
       "\n",
       "    .dataframe thead th {\n",
       "        text-align: right;\n",
       "    }\n",
       "</style>\n",
       "<table border=\"1\" class=\"dataframe\">\n",
       "  <thead>\n",
       "    <tr style=\"text-align: right;\">\n",
       "      <th></th>\n",
       "      <th>0</th>\n",
       "      <th>Unnamed: 0</th>\n",
       "      <th>ENTREZID</th>\n",
       "      <th>ENSEMBL</th>\n",
       "      <th>GENENAME</th>\n",
       "      <th>SYMBOL</th>\n",
       "      <th>Label</th>\n",
       "      <th>timeset</th>\n",
       "      <th>modularity_class</th>\n",
       "      <th>pageranks</th>\n",
       "    </tr>\n",
       "  </thead>\n",
       "  <tbody>\n",
       "    <tr>\n",
       "      <th>0</th>\n",
       "      <td>SLC10A2</td>\n",
       "      <td>1114</td>\n",
       "      <td>6555</td>\n",
       "      <td>ENSG00000125255</td>\n",
       "      <td>solute carrier family 10 member 2</td>\n",
       "      <td>SLC10A2</td>\n",
       "      <td>6555</td>\n",
       "      <td>NaN</td>\n",
       "      <td>20</td>\n",
       "      <td>0.000582</td>\n",
       "    </tr>\n",
       "  </tbody>\n",
       "</table>\n",
       "</div>"
      ],
      "text/plain": [
       "         0  Unnamed: 0  ENTREZID          ENSEMBL  \\\n",
       "0  SLC10A2        1114      6555  ENSG00000125255   \n",
       "\n",
       "                            GENENAME   SYMBOL  Label  timeset  \\\n",
       "0  solute carrier family 10 member 2  SLC10A2   6555      NaN   \n",
       "\n",
       "   modularity_class  pageranks  \n",
       "0                20   0.000582  "
      ]
     },
     "execution_count": 17,
     "metadata": {},
     "output_type": "execute_result"
    }
   ],
   "source": [
    "# for PD\n",
    "reportedGene.merge(data, how='inner', left_on=0, right_on='SYMBOL')"
   ]
  },
  {
   "cell_type": "code",
   "execution_count": 18,
   "metadata": {},
   "outputs": [
    {
     "data": {
      "text/html": [
       "<div>\n",
       "<style scoped>\n",
       "    .dataframe tbody tr th:only-of-type {\n",
       "        vertical-align: middle;\n",
       "    }\n",
       "\n",
       "    .dataframe tbody tr th {\n",
       "        vertical-align: top;\n",
       "    }\n",
       "\n",
       "    .dataframe thead th {\n",
       "        text-align: right;\n",
       "    }\n",
       "</style>\n",
       "<table border=\"1\" class=\"dataframe\">\n",
       "  <thead>\n",
       "    <tr style=\"text-align: right;\">\n",
       "      <th></th>\n",
       "      <th>0</th>\n",
       "      <th>Unnamed: 0</th>\n",
       "      <th>ENTREZID</th>\n",
       "      <th>ENSEMBL</th>\n",
       "      <th>GENENAME</th>\n",
       "      <th>SYMBOL</th>\n",
       "      <th>Label</th>\n",
       "      <th>timeset</th>\n",
       "      <th>modularity_class</th>\n",
       "      <th>pageranks</th>\n",
       "    </tr>\n",
       "  </thead>\n",
       "  <tbody>\n",
       "    <tr>\n",
       "      <th>0</th>\n",
       "      <td>SLC10A2</td>\n",
       "      <td>1114</td>\n",
       "      <td>6555</td>\n",
       "      <td>ENSG00000125255</td>\n",
       "      <td>solute carrier family 10 member 2</td>\n",
       "      <td>SLC10A2</td>\n",
       "      <td>6555</td>\n",
       "      <td>NaN</td>\n",
       "      <td>20</td>\n",
       "      <td>0.000582</td>\n",
       "    </tr>\n",
       "  </tbody>\n",
       "</table>\n",
       "</div>"
      ],
      "text/plain": [
       "         0  Unnamed: 0  ENTREZID          ENSEMBL  \\\n",
       "0  SLC10A2        1114      6555  ENSG00000125255   \n",
       "\n",
       "                            GENENAME   SYMBOL  Label  timeset  \\\n",
       "0  solute carrier family 10 member 2  SLC10A2   6555      NaN   \n",
       "\n",
       "   modularity_class  pageranks  \n",
       "0                20   0.000582  "
      ]
     },
     "execution_count": 18,
     "metadata": {},
     "output_type": "execute_result"
    }
   ],
   "source": [
    "# for AD\n",
    "reportedGene.merge(data, how='inner', left_on=0, right_on='SYMBOL')"
   ]
  },
  {
   "cell_type": "code",
   "execution_count": null,
   "metadata": {
    "collapsed": true
   },
   "outputs": [],
   "source": []
  }
 ],
 "metadata": {
  "kernelspec": {
   "display_name": "Python 3",
   "language": "python",
   "name": "python3"
  },
  "language_info": {
   "codemirror_mode": {
    "name": "ipython",
    "version": 3
   },
   "file_extension": ".py",
   "mimetype": "text/x-python",
   "name": "python",
   "nbconvert_exporter": "python",
   "pygments_lexer": "ipython3",
   "version": "3.6.6"
  },
  "varInspector": {
   "cols": {
    "lenName": 16,
    "lenType": 16,
    "lenVar": 40
   },
   "kernels_config": {
    "python": {
     "delete_cmd_postfix": "",
     "delete_cmd_prefix": "del ",
     "library": "var_list.py",
     "varRefreshCmd": "print(var_dic_list())"
    },
    "r": {
     "delete_cmd_postfix": ") ",
     "delete_cmd_prefix": "rm(",
     "library": "var_list.r",
     "varRefreshCmd": "cat(var_dic_list()) "
    }
   },
   "types_to_exclude": [
    "module",
    "function",
    "builtin_function_or_method",
    "instance",
    "_Feature"
   ],
   "window_display": false
  }
 },
 "nbformat": 4,
 "nbformat_minor": 2
}
