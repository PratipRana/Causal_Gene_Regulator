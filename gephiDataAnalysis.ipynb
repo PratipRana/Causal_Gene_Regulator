{
 "cells": [
  {
   "cell_type": "code",
   "execution_count": 1,
   "metadata": {},
   "outputs": [],
   "source": [
    "import pandas as pd\n",
    "import numpy as np"
   ]
  },
  {
   "cell_type": "code",
   "execution_count": 19,
   "metadata": {},
   "outputs": [],
   "source": [
    "data = pd.read_csv('PD_Data_annoted.csv')"
   ]
  },
  {
   "cell_type": "code",
   "execution_count": 20,
   "metadata": {
    "scrolled": true
   },
   "outputs": [
    {
     "data": {
      "text/html": [
       "<div>\n",
       "<style scoped>\n",
       "    .dataframe tbody tr th:only-of-type {\n",
       "        vertical-align: middle;\n",
       "    }\n",
       "\n",
       "    .dataframe tbody tr th {\n",
       "        vertical-align: top;\n",
       "    }\n",
       "\n",
       "    .dataframe thead th {\n",
       "        text-align: right;\n",
       "    }\n",
       "</style>\n",
       "<table border=\"1\" class=\"dataframe\">\n",
       "  <thead>\n",
       "    <tr style=\"text-align: right;\">\n",
       "      <th></th>\n",
       "      <th>Unnamed: 0</th>\n",
       "      <th>ENTREZID</th>\n",
       "      <th>ENSEMBL</th>\n",
       "      <th>GENENAME</th>\n",
       "      <th>SYMBOL</th>\n",
       "      <th>Label</th>\n",
       "      <th>timeset</th>\n",
       "      <th>modularity_class</th>\n",
       "      <th>pageranks</th>\n",
       "    </tr>\n",
       "  </thead>\n",
       "  <tbody>\n",
       "    <tr>\n",
       "      <th>0</th>\n",
       "      <td>1</td>\n",
       "      <td>10</td>\n",
       "      <td>ENSG00000156006</td>\n",
       "      <td>N-acetyltransferase 2</td>\n",
       "      <td>NAT2</td>\n",
       "      <td>10</td>\n",
       "      <td>NaN</td>\n",
       "      <td>38</td>\n",
       "      <td>0.000850</td>\n",
       "    </tr>\n",
       "    <tr>\n",
       "      <th>1</th>\n",
       "      <td>2</td>\n",
       "      <td>10006</td>\n",
       "      <td>ENSG00000136754</td>\n",
       "      <td>abl interactor 1</td>\n",
       "      <td>ABI1</td>\n",
       "      <td>10006</td>\n",
       "      <td>NaN</td>\n",
       "      <td>35</td>\n",
       "      <td>0.001486</td>\n",
       "    </tr>\n",
       "    <tr>\n",
       "      <th>2</th>\n",
       "      <td>3</td>\n",
       "      <td>100128640</td>\n",
       "      <td>ENSG00000229589</td>\n",
       "      <td>ACVR2B antisense RNA 1</td>\n",
       "      <td>ACVR2B-AS1</td>\n",
       "      <td>100128640</td>\n",
       "      <td>NaN</td>\n",
       "      <td>5</td>\n",
       "      <td>0.000352</td>\n",
       "    </tr>\n",
       "    <tr>\n",
       "      <th>3</th>\n",
       "      <td>4</td>\n",
       "      <td>100129271</td>\n",
       "      <td>ENSG00000198854</td>\n",
       "      <td>chromosome 1 open reading frame 68</td>\n",
       "      <td>C1orf68</td>\n",
       "      <td>100129271</td>\n",
       "      <td>NaN</td>\n",
       "      <td>5</td>\n",
       "      <td>0.001381</td>\n",
       "    </tr>\n",
       "    <tr>\n",
       "      <th>4</th>\n",
       "      <td>5</td>\n",
       "      <td>100129528</td>\n",
       "      <td>NaN</td>\n",
       "      <td>mucin 8</td>\n",
       "      <td>MUC8</td>\n",
       "      <td>100129528</td>\n",
       "      <td>NaN</td>\n",
       "      <td>40</td>\n",
       "      <td>0.000309</td>\n",
       "    </tr>\n",
       "  </tbody>\n",
       "</table>\n",
       "</div>"
      ],
      "text/plain": [
       "   Unnamed: 0   ENTREZID          ENSEMBL                            GENENAME  \\\n",
       "0           1         10  ENSG00000156006               N-acetyltransferase 2   \n",
       "1           2      10006  ENSG00000136754                    abl interactor 1   \n",
       "2           3  100128640  ENSG00000229589              ACVR2B antisense RNA 1   \n",
       "3           4  100129271  ENSG00000198854  chromosome 1 open reading frame 68   \n",
       "4           5  100129528              NaN                             mucin 8   \n",
       "\n",
       "       SYMBOL      Label  timeset  modularity_class  pageranks  \n",
       "0        NAT2         10      NaN                38   0.000850  \n",
       "1        ABI1      10006      NaN                35   0.001486  \n",
       "2  ACVR2B-AS1  100128640      NaN                 5   0.000352  \n",
       "3     C1orf68  100129271      NaN                 5   0.001381  \n",
       "4        MUC8  100129528      NaN                40   0.000309  "
      ]
     },
     "execution_count": 20,
     "metadata": {},
     "output_type": "execute_result"
    }
   ],
   "source": [
    "data.head()"
   ]
  },
  {
   "cell_type": "code",
   "execution_count": 21,
   "metadata": {},
   "outputs": [
    {
     "name": "stdout",
     "output_type": "stream",
     "text": [
      "0.005433 0.00019\n"
     ]
    }
   ],
   "source": [
    "print(data['pageranks'].max(), data['pageranks'].min())"
   ]
  },
  {
   "cell_type": "code",
   "execution_count": 22,
   "metadata": {},
   "outputs": [],
   "source": [
    "reportedGene = pd.read_csv('PDgene', header = None)"
   ]
  },
  {
   "cell_type": "code",
   "execution_count": 23,
   "metadata": {},
   "outputs": [],
   "source": [
    "reportedGene= reportedGene.groupby(0, group_keys=True).max().reset_index()"
   ]
  },
  {
   "cell_type": "code",
   "execution_count": 24,
   "metadata": {},
   "outputs": [
    {
     "name": "stdout",
     "output_type": "stream",
     "text": [
      "(66, 1)\n"
     ]
    },
    {
     "data": {
      "text/html": [
       "<div>\n",
       "<style scoped>\n",
       "    .dataframe tbody tr th:only-of-type {\n",
       "        vertical-align: middle;\n",
       "    }\n",
       "\n",
       "    .dataframe tbody tr th {\n",
       "        vertical-align: top;\n",
       "    }\n",
       "\n",
       "    .dataframe thead th {\n",
       "        text-align: right;\n",
       "    }\n",
       "</style>\n",
       "<table border=\"1\" class=\"dataframe\">\n",
       "  <thead>\n",
       "    <tr style=\"text-align: right;\">\n",
       "      <th></th>\n",
       "      <th>0</th>\n",
       "    </tr>\n",
       "  </thead>\n",
       "  <tbody>\n",
       "    <tr>\n",
       "      <th>0</th>\n",
       "      <td>ACMSD</td>\n",
       "    </tr>\n",
       "    <tr>\n",
       "      <th>1</th>\n",
       "      <td>ACMSD-TMEM163</td>\n",
       "    </tr>\n",
       "    <tr>\n",
       "      <th>2</th>\n",
       "      <td>ALAS1</td>\n",
       "    </tr>\n",
       "    <tr>\n",
       "      <th>3</th>\n",
       "      <td>ANK2</td>\n",
       "    </tr>\n",
       "    <tr>\n",
       "      <th>4</th>\n",
       "      <td>ATP6V0A1</td>\n",
       "    </tr>\n",
       "  </tbody>\n",
       "</table>\n",
       "</div>"
      ],
      "text/plain": [
       "               0\n",
       "0          ACMSD\n",
       "1  ACMSD-TMEM163\n",
       "2          ALAS1\n",
       "3           ANK2\n",
       "4       ATP6V0A1"
      ]
     },
     "execution_count": 24,
     "metadata": {},
     "output_type": "execute_result"
    }
   ],
   "source": [
    "print(reportedGene.shape)\n",
    "reportedGene.head()"
   ]
  },
  {
   "cell_type": "code",
   "execution_count": 25,
   "metadata": {},
   "outputs": [],
   "source": [
    "reportedGene.to_csv('PD_gene_unique.csv')"
   ]
  },
  {
   "cell_type": "raw",
   "metadata": {},
   "source": [
    "# for PD\n",
    "reportedGene.merge(data, how='inner', left_on=0, right_on='SYMBOL')"
   ]
  },
  {
   "cell_type": "code",
   "execution_count": 18,
   "metadata": {},
   "outputs": [
    {
     "data": {
      "text/html": [
       "<div>\n",
       "<style scoped>\n",
       "    .dataframe tbody tr th:only-of-type {\n",
       "        vertical-align: middle;\n",
       "    }\n",
       "\n",
       "    .dataframe tbody tr th {\n",
       "        vertical-align: top;\n",
       "    }\n",
       "\n",
       "    .dataframe thead th {\n",
       "        text-align: right;\n",
       "    }\n",
       "</style>\n",
       "<table border=\"1\" class=\"dataframe\">\n",
       "  <thead>\n",
       "    <tr style=\"text-align: right;\">\n",
       "      <th></th>\n",
       "      <th>0</th>\n",
       "      <th>Unnamed: 0</th>\n",
       "      <th>ENTREZID</th>\n",
       "      <th>ENSEMBL</th>\n",
       "      <th>GENENAME</th>\n",
       "      <th>SYMBOL</th>\n",
       "      <th>Label</th>\n",
       "      <th>timeset</th>\n",
       "      <th>modularity_class</th>\n",
       "      <th>pageranks</th>\n",
       "    </tr>\n",
       "  </thead>\n",
       "  <tbody>\n",
       "    <tr>\n",
       "      <th>0</th>\n",
       "      <td>SLC10A2</td>\n",
       "      <td>1114</td>\n",
       "      <td>6555</td>\n",
       "      <td>ENSG00000125255</td>\n",
       "      <td>solute carrier family 10 member 2</td>\n",
       "      <td>SLC10A2</td>\n",
       "      <td>6555</td>\n",
       "      <td>NaN</td>\n",
       "      <td>20</td>\n",
       "      <td>0.000582</td>\n",
       "    </tr>\n",
       "  </tbody>\n",
       "</table>\n",
       "</div>"
      ],
      "text/plain": [
       "         0  Unnamed: 0  ENTREZID          ENSEMBL  \\\n",
       "0  SLC10A2        1114      6555  ENSG00000125255   \n",
       "\n",
       "                            GENENAME   SYMBOL  Label  timeset  \\\n",
       "0  solute carrier family 10 member 2  SLC10A2   6555      NaN   \n",
       "\n",
       "   modularity_class  pageranks  \n",
       "0                20   0.000582  "
      ]
     },
     "execution_count": 18,
     "metadata": {},
     "output_type": "execute_result"
    }
   ],
   "source": [
    "# for AD\n",
    "reportedGene.merge(data, how='inner', left_on=0, right_on='SYMBOL')"
   ]
  },
  {
   "cell_type": "code",
   "execution_count": null,
   "metadata": {},
   "outputs": [],
   "source": []
  }
 ],
 "metadata": {
  "kernelspec": {
   "display_name": "Python 3",
   "language": "python",
   "name": "python3"
  },
  "language_info": {
   "codemirror_mode": {
    "name": "ipython",
    "version": 3
   },
   "file_extension": ".py",
   "mimetype": "text/x-python",
   "name": "python",
   "nbconvert_exporter": "python",
   "pygments_lexer": "ipython3",
   "version": "3.6.4"
  },
  "varInspector": {
   "cols": {
    "lenName": 16,
    "lenType": 16,
    "lenVar": 40
   },
   "kernels_config": {
    "python": {
     "delete_cmd_postfix": "",
     "delete_cmd_prefix": "del ",
     "library": "var_list.py",
     "varRefreshCmd": "print(var_dic_list())"
    },
    "r": {
     "delete_cmd_postfix": ") ",
     "delete_cmd_prefix": "rm(",
     "library": "var_list.r",
     "varRefreshCmd": "cat(var_dic_list()) "
    }
   },
   "types_to_exclude": [
    "module",
    "function",
    "builtin_function_or_method",
    "instance",
    "_Feature"
   ],
   "window_display": false
  }
 },
 "nbformat": 4,
 "nbformat_minor": 2
}
