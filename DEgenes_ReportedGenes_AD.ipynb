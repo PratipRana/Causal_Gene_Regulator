{
 "cells": [
  {
   "cell_type": "code",
   "execution_count": 1,
   "metadata": {
    "collapsed": true
   },
   "outputs": [],
   "source": [
    "import pandas as pd\n",
    "import numpy as np"
   ]
  },
  {
   "cell_type": "code",
   "execution_count": 2,
   "metadata": {
    "collapsed": true
   },
   "outputs": [],
   "source": [
    "# load reported gene\n",
    "reported = pd.read_csv('AD_gene_reported_anoted.csv')"
   ]
  },
  {
   "cell_type": "code",
   "execution_count": 3,
   "metadata": {
    "collapsed": true
   },
   "outputs": [],
   "source": [
    "reported = reported.dropna()"
   ]
  },
  {
   "cell_type": "code",
   "execution_count": 4,
   "metadata": {
    "scrolled": true
   },
   "outputs": [
    {
     "data": {
      "text/html": [
       "<div>\n",
       "<style scoped>\n",
       "    .dataframe tbody tr th:only-of-type {\n",
       "        vertical-align: middle;\n",
       "    }\n",
       "\n",
       "    .dataframe tbody tr th {\n",
       "        vertical-align: top;\n",
       "    }\n",
       "\n",
       "    .dataframe thead th {\n",
       "        text-align: right;\n",
       "    }\n",
       "</style>\n",
       "<table border=\"1\" class=\"dataframe\">\n",
       "  <thead>\n",
       "    <tr style=\"text-align: right;\">\n",
       "      <th></th>\n",
       "      <th>Unnamed: 0</th>\n",
       "      <th>ENSEMBL</th>\n",
       "      <th>ENTREZID</th>\n",
       "      <th>GENENAME</th>\n",
       "    </tr>\n",
       "    <tr>\n",
       "      <th>SYMBOL</th>\n",
       "      <th></th>\n",
       "      <th></th>\n",
       "      <th></th>\n",
       "      <th></th>\n",
       "    </tr>\n",
       "  </thead>\n",
       "  <tbody>\n",
       "    <tr>\n",
       "      <th>ABCA7</th>\n",
       "      <td>1</td>\n",
       "      <td>ENSG00000064687</td>\n",
       "      <td>10347.0</td>\n",
       "      <td>ATP binding cassette subfamily A member 7</td>\n",
       "    </tr>\n",
       "    <tr>\n",
       "      <th>ACE</th>\n",
       "      <td>3</td>\n",
       "      <td>ENSG00000159640</td>\n",
       "      <td>1636.0</td>\n",
       "      <td>angiotensin I converting enzyme</td>\n",
       "    </tr>\n",
       "    <tr>\n",
       "      <th>ADAM10</th>\n",
       "      <td>4</td>\n",
       "      <td>ENSG00000137845</td>\n",
       "      <td>102.0</td>\n",
       "      <td>ADAM metallopeptidase domain 10</td>\n",
       "    </tr>\n",
       "    <tr>\n",
       "      <th>ADAMTS4</th>\n",
       "      <td>5</td>\n",
       "      <td>ENSG00000158859</td>\n",
       "      <td>9507.0</td>\n",
       "      <td>ADAM metallopeptidase with thrombospondin type...</td>\n",
       "    </tr>\n",
       "    <tr>\n",
       "      <th>ALPK2</th>\n",
       "      <td>6</td>\n",
       "      <td>ENSG00000198796</td>\n",
       "      <td>115701.0</td>\n",
       "      <td>alpha kinase 2</td>\n",
       "    </tr>\n",
       "  </tbody>\n",
       "</table>\n",
       "</div>"
      ],
      "text/plain": [
       "         Unnamed: 0          ENSEMBL  ENTREZID  \\\n",
       "SYMBOL                                           \n",
       "ABCA7             1  ENSG00000064687   10347.0   \n",
       "ACE               3  ENSG00000159640    1636.0   \n",
       "ADAM10            4  ENSG00000137845     102.0   \n",
       "ADAMTS4           5  ENSG00000158859    9507.0   \n",
       "ALPK2             6  ENSG00000198796  115701.0   \n",
       "\n",
       "                                                  GENENAME  \n",
       "SYMBOL                                                      \n",
       "ABCA7            ATP binding cassette subfamily A member 7  \n",
       "ACE                        angiotensin I converting enzyme  \n",
       "ADAM10                     ADAM metallopeptidase domain 10  \n",
       "ADAMTS4  ADAM metallopeptidase with thrombospondin type...  \n",
       "ALPK2                                       alpha kinase 2  "
      ]
     },
     "execution_count": 4,
     "metadata": {},
     "output_type": "execute_result"
    }
   ],
   "source": [
    "reported = reported.set_index('SYMBOL');\n",
    "reported.head()"
   ]
  },
  {
   "cell_type": "code",
   "execution_count": 5,
   "metadata": {
    "collapsed": true
   },
   "outputs": [],
   "source": [
    "reported.ENTREZID = reported.ENTREZID.astype(int)"
   ]
  },
  {
   "cell_type": "code",
   "execution_count": 6,
   "metadata": {},
   "outputs": [
    {
     "name": "stdout",
     "output_type": "stream",
     "text": [
      "46\n"
     ]
    }
   ],
   "source": [
    "reportedGene = list(reported.ENTREZID)\n",
    "print(len(reportedGene))"
   ]
  },
  {
   "cell_type": "code",
   "execution_count": 7,
   "metadata": {
    "collapsed": true
   },
   "outputs": [],
   "source": [
    "#load DE\n",
    "deData = pd.read_csv('OutputAD_limma.dat')"
   ]
  },
  {
   "cell_type": "code",
   "execution_count": 8,
   "metadata": {},
   "outputs": [
    {
     "data": {
      "text/html": [
       "<div>\n",
       "<style scoped>\n",
       "    .dataframe tbody tr th:only-of-type {\n",
       "        vertical-align: middle;\n",
       "    }\n",
       "\n",
       "    .dataframe tbody tr th {\n",
       "        vertical-align: top;\n",
       "    }\n",
       "\n",
       "    .dataframe thead th {\n",
       "        text-align: right;\n",
       "    }\n",
       "</style>\n",
       "<table border=\"1\" class=\"dataframe\">\n",
       "  <thead>\n",
       "    <tr style=\"text-align: right;\">\n",
       "      <th></th>\n",
       "      <th>ENTREZ_GENE_ID</th>\n",
       "      <th>logFC</th>\n",
       "      <th>AveExpr</th>\n",
       "      <th>t</th>\n",
       "      <th>P.Value</th>\n",
       "      <th>adj.P.Val</th>\n",
       "      <th>B</th>\n",
       "    </tr>\n",
       "  </thead>\n",
       "  <tbody>\n",
       "    <tr>\n",
       "      <th>0</th>\n",
       "      <td>10</td>\n",
       "      <td>0.096475</td>\n",
       "      <td>4.976785</td>\n",
       "      <td>0.420912</td>\n",
       "      <td>0.673898</td>\n",
       "      <td>0.999958</td>\n",
       "      <td>-5.381185</td>\n",
       "    </tr>\n",
       "    <tr>\n",
       "      <th>1</th>\n",
       "      <td>100</td>\n",
       "      <td>0.001244</td>\n",
       "      <td>1.750290</td>\n",
       "      <td>0.027100</td>\n",
       "      <td>0.978384</td>\n",
       "      <td>0.999958</td>\n",
       "      <td>-5.453624</td>\n",
       "    </tr>\n",
       "    <tr>\n",
       "      <th>2</th>\n",
       "      <td>1000</td>\n",
       "      <td>0.002668</td>\n",
       "      <td>1.787984</td>\n",
       "      <td>0.057769</td>\n",
       "      <td>0.953943</td>\n",
       "      <td>0.999958</td>\n",
       "      <td>-5.452555</td>\n",
       "    </tr>\n",
       "    <tr>\n",
       "      <th>3</th>\n",
       "      <td>10000</td>\n",
       "      <td>-0.010861</td>\n",
       "      <td>1.726682</td>\n",
       "      <td>-0.250108</td>\n",
       "      <td>0.802549</td>\n",
       "      <td>0.999958</td>\n",
       "      <td>-5.428241</td>\n",
       "    </tr>\n",
       "    <tr>\n",
       "      <th>4</th>\n",
       "      <td>100009676</td>\n",
       "      <td>-0.090105</td>\n",
       "      <td>3.657596</td>\n",
       "      <td>-0.505002</td>\n",
       "      <td>0.613654</td>\n",
       "      <td>0.999958</td>\n",
       "      <td>-5.349222</td>\n",
       "    </tr>\n",
       "  </tbody>\n",
       "</table>\n",
       "</div>"
      ],
      "text/plain": [
       "   ENTREZ_GENE_ID     logFC   AveExpr         t   P.Value  adj.P.Val         B\n",
       "0              10  0.096475  4.976785  0.420912  0.673898   0.999958 -5.381185\n",
       "1             100  0.001244  1.750290  0.027100  0.978384   0.999958 -5.453624\n",
       "2            1000  0.002668  1.787984  0.057769  0.953943   0.999958 -5.452555\n",
       "3           10000 -0.010861  1.726682 -0.250108  0.802549   0.999958 -5.428241\n",
       "4       100009676 -0.090105  3.657596 -0.505002  0.613654   0.999958 -5.349222"
      ]
     },
     "execution_count": 8,
     "metadata": {},
     "output_type": "execute_result"
    }
   ],
   "source": [
    "deData.head()"
   ]
  },
  {
   "cell_type": "code",
   "execution_count": 9,
   "metadata": {},
   "outputs": [
    {
     "name": "stdout",
     "output_type": "stream",
     "text": [
      "269\n"
     ]
    }
   ],
   "source": [
    "deGenes = list(deData[deData['P.Value']<0.05]['ENTREZ_GENE_ID'])\n",
    "print(len(deGenes))"
   ]
  },
  {
   "cell_type": "code",
   "execution_count": 10,
   "metadata": {
    "collapsed": true
   },
   "outputs": [],
   "source": [
    "commonGene = list(set(deGenes).intersection(set(reportedGene)))"
   ]
  },
  {
   "cell_type": "code",
   "execution_count": 11,
   "metadata": {},
   "outputs": [
    {
     "data": {
      "text/html": [
       "<div>\n",
       "<style scoped>\n",
       "    .dataframe tbody tr th:only-of-type {\n",
       "        vertical-align: middle;\n",
       "    }\n",
       "\n",
       "    .dataframe tbody tr th {\n",
       "        vertical-align: top;\n",
       "    }\n",
       "\n",
       "    .dataframe thead th {\n",
       "        text-align: right;\n",
       "    }\n",
       "</style>\n",
       "<table border=\"1\" class=\"dataframe\">\n",
       "  <thead>\n",
       "    <tr style=\"text-align: right;\">\n",
       "      <th></th>\n",
       "      <th>SYMBOL</th>\n",
       "      <th>Unnamed: 0</th>\n",
       "      <th>ENSEMBL</th>\n",
       "      <th>GENENAME</th>\n",
       "    </tr>\n",
       "    <tr>\n",
       "      <th>ENTREZID</th>\n",
       "      <th></th>\n",
       "      <th></th>\n",
       "      <th></th>\n",
       "      <th></th>\n",
       "    </tr>\n",
       "  </thead>\n",
       "  <tbody>\n",
       "  </tbody>\n",
       "</table>\n",
       "</div>"
      ],
      "text/plain": [
       "Empty DataFrame\n",
       "Columns: [SYMBOL, Unnamed: 0, ENSEMBL, GENENAME]\n",
       "Index: []"
      ]
     },
     "execution_count": 11,
     "metadata": {},
     "output_type": "execute_result"
    }
   ],
   "source": [
    "reported.reset_index().set_index('ENTREZID').loc[commonGene]"
   ]
  },
  {
   "cell_type": "code",
   "execution_count": 12,
   "metadata": {
    "collapsed": true
   },
   "outputs": [],
   "source": [
    "UnionGene = list(set(deGenes).union(set(reportedGene)))"
   ]
  },
  {
   "cell_type": "code",
   "execution_count": 13,
   "metadata": {},
   "outputs": [
    {
     "data": {
      "text/plain": [
       "315"
      ]
     },
     "execution_count": 13,
     "metadata": {},
     "output_type": "execute_result"
    }
   ],
   "source": [
    "len(UnionGene)"
   ]
  },
  {
   "cell_type": "code",
   "execution_count": 14,
   "metadata": {},
   "outputs": [
    {
     "name": "stdout",
     "output_type": "stream",
     "text": [
      "[79873, 152579, 79890, 25, 1051, 28, 23588, 23595, 10284, 124976, 51248, 3123, 5173, 23607, 3127, 135228, 5199, 2128, 5201, 254042, 30815, 102, 4199, 10347, 114796, 4204, 114798, 114799, 8301, 114801, 30834, 4208, 51314, 5245, 10369, 58503, 374920, 2185, 1163, 64651, 3213, 100289678, 402573, 10384, 1173, 51350, 259230, 100128927, 1184, 2206, 57506, 123041, 54436, 3237, 1191, 100129961, 25769, 25771, 2220, 7337, 177, 84148, 10425, 25787, 144577, 25796, 51398, 6345, 54474, 3276, 9420, 51412, 10452, 84186, 5348, 474344, 25833, 10476, 10477, 240, 100505841, 5366, 5376, 29958, 3339, 1293, 101928207, 149775, 274, 275, 51477, 102723864, 57633, 9507, 22820, 80167, 2348, 25906, 55607, 146754, 323, 6474, 56652, 25937, 56660, 341, 254295, 8537, 128346, 3418, 54620, 56667, 348, 5471, 147808, 1378, 51555, 116068, 356, 26986, 100130155, 84331, 134510, 51567, 25976, 114041, 1404, 85377, 140679, 1415, 140687, 4495, 123283, 1429, 54677, 254359, 55707, 6555, 387486, 63906, 10658, 101060004, 3495, 144811, 10668, 26036, 50616, 27065, 26047, 147906, 1475, 26050, 101927365, 10695, 5580, 66005, 256471, 171484, 51678, 3551, 138724, 10730, 26094, 9712, 10739, 54776, 6653, 147968, 55808, 8704, 83464, 285194, 50717, 54815, 26152, 5675, 54830, 1583, 3631, 3632, 3635, 23092, 576, 140873, 53836, 347735, 388695, 55900, 607, 119392, 56929, 148066, 3682, 399972, 1636, 10859, 55917, 10863, 440944, 8820, 26229, 23161, 439938, 2694, 374407, 151176, 116362, 8846, 23185, 56981, 118424, 23194, 23195, 5788, 5792, 100289187, 5802, 27309, 4782, 26287, 5819, 10940, 10945, 352961, 5828, 151242, 23242, 283349, 84698, 116443, 116444, 283358, 2783, 116449, 441058, 10979, 23268, 101410535, 2792, 1769, 64231, 5875, 55037, 101929726, 6911, 57091, 150280, 6921, 4883, 11031, 55063, 55076, 1829, 116519, 220972, 1839, 100874032, 100289341, 441150, 55101, 138050, 56130, 55112, 4943, 23386, 55132, 4968, 2925, 400238, 338799, 11122, 4985, 4986, 100874110, 374654, 84864, 6017, 79746, 51082, 26508, 51084, 910, 375704, 26526, 10144, 26528, 10155, 23473, 390066, 945, 11194, 3004, 51133, 54209, 54212, 5063, 135112, 135114, 51147, 118738, 100874195, 252884, 4052, 256987, 51164, 55262, 23519, 11238, 5094, 51186, 2036, 115701, 2041, 152573, 125950]\n"
     ]
    }
   ],
   "source": [
    "print(UnionGene)"
   ]
  },
  {
   "cell_type": "code",
   "execution_count": 15,
   "metadata": {
    "collapsed": true
   },
   "outputs": [],
   "source": [
    "#load expresion data\n",
    "ADexpressionData = pd.read_csv('AD_data_GEO.csv')"
   ]
  },
  {
   "cell_type": "code",
   "execution_count": 16,
   "metadata": {},
   "outputs": [
    {
     "data": {
      "text/html": [
       "<div>\n",
       "<style scoped>\n",
       "    .dataframe tbody tr th:only-of-type {\n",
       "        vertical-align: middle;\n",
       "    }\n",
       "\n",
       "    .dataframe tbody tr th {\n",
       "        vertical-align: top;\n",
       "    }\n",
       "\n",
       "    .dataframe thead th {\n",
       "        text-align: right;\n",
       "    }\n",
       "</style>\n",
       "<table border=\"1\" class=\"dataframe\">\n",
       "  <thead>\n",
       "    <tr style=\"text-align: right;\">\n",
       "      <th></th>\n",
       "      <th>ENTREZ_GENE_ID</th>\n",
       "      <th>GSM2233534</th>\n",
       "      <th>GSM2233535</th>\n",
       "      <th>GSM2233537</th>\n",
       "      <th>GSM2233538</th>\n",
       "      <th>GSM2233539</th>\n",
       "      <th>GSM2233540</th>\n",
       "      <th>GSM2233541</th>\n",
       "      <th>GSM2233542</th>\n",
       "      <th>GSM2233544</th>\n",
       "      <th>...</th>\n",
       "      <th>GSM2235488</th>\n",
       "      <th>GSM2235490</th>\n",
       "      <th>GSM2235495</th>\n",
       "      <th>GSM2235501</th>\n",
       "      <th>GSM2235503</th>\n",
       "      <th>GSM2235504</th>\n",
       "      <th>GSM2235512</th>\n",
       "      <th>GSM2235519</th>\n",
       "      <th>GSM2235521</th>\n",
       "      <th>GSM2235522</th>\n",
       "    </tr>\n",
       "  </thead>\n",
       "  <tbody>\n",
       "    <tr>\n",
       "      <th>0</th>\n",
       "      <td>10</td>\n",
       "      <td>1.894550</td>\n",
       "      <td>1.844536</td>\n",
       "      <td>1.407503</td>\n",
       "      <td>1.851952</td>\n",
       "      <td>1.725851</td>\n",
       "      <td>1.752923</td>\n",
       "      <td>1.471343</td>\n",
       "      <td>1.395326</td>\n",
       "      <td>2.219697</td>\n",
       "      <td>...</td>\n",
       "      <td>1.000000</td>\n",
       "      <td>1.000000</td>\n",
       "      <td>1.000000</td>\n",
       "      <td>1.000000</td>\n",
       "      <td>1.000000</td>\n",
       "      <td>1.000000</td>\n",
       "      <td>1.000000</td>\n",
       "      <td>1.000000</td>\n",
       "      <td>1.000000</td>\n",
       "      <td>1.000000</td>\n",
       "    </tr>\n",
       "    <tr>\n",
       "      <th>1</th>\n",
       "      <td>100</td>\n",
       "      <td>2.723472</td>\n",
       "      <td>2.660155</td>\n",
       "      <td>2.472315</td>\n",
       "      <td>2.179213</td>\n",
       "      <td>2.443815</td>\n",
       "      <td>2.617917</td>\n",
       "      <td>2.749893</td>\n",
       "      <td>2.385487</td>\n",
       "      <td>2.638806</td>\n",
       "      <td>...</td>\n",
       "      <td>1.000000</td>\n",
       "      <td>1.000000</td>\n",
       "      <td>1.000000</td>\n",
       "      <td>1.000000</td>\n",
       "      <td>1.000000</td>\n",
       "      <td>1.000000</td>\n",
       "      <td>1.000000</td>\n",
       "      <td>1.000000</td>\n",
       "      <td>1.000000</td>\n",
       "      <td>1.000000</td>\n",
       "    </tr>\n",
       "    <tr>\n",
       "      <th>2</th>\n",
       "      <td>1000</td>\n",
       "      <td>7.866425</td>\n",
       "      <td>7.966718</td>\n",
       "      <td>7.696251</td>\n",
       "      <td>7.666251</td>\n",
       "      <td>7.580768</td>\n",
       "      <td>8.220708</td>\n",
       "      <td>7.711140</td>\n",
       "      <td>8.136351</td>\n",
       "      <td>7.732809</td>\n",
       "      <td>...</td>\n",
       "      <td>1.000000</td>\n",
       "      <td>1.000000</td>\n",
       "      <td>1.000000</td>\n",
       "      <td>1.000000</td>\n",
       "      <td>1.000000</td>\n",
       "      <td>1.000000</td>\n",
       "      <td>1.000000</td>\n",
       "      <td>1.000000</td>\n",
       "      <td>1.000000</td>\n",
       "      <td>1.000000</td>\n",
       "    </tr>\n",
       "    <tr>\n",
       "      <th>3</th>\n",
       "      <td>10000</td>\n",
       "      <td>3.490881</td>\n",
       "      <td>3.225545</td>\n",
       "      <td>3.508853</td>\n",
       "      <td>3.770084</td>\n",
       "      <td>3.404882</td>\n",
       "      <td>3.562278</td>\n",
       "      <td>3.537456</td>\n",
       "      <td>4.147778</td>\n",
       "      <td>3.415148</td>\n",
       "      <td>...</td>\n",
       "      <td>3.626186</td>\n",
       "      <td>2.990150</td>\n",
       "      <td>3.002777</td>\n",
       "      <td>2.733827</td>\n",
       "      <td>4.026714</td>\n",
       "      <td>3.502457</td>\n",
       "      <td>3.413461</td>\n",
       "      <td>3.809056</td>\n",
       "      <td>3.650891</td>\n",
       "      <td>3.679745</td>\n",
       "    </tr>\n",
       "    <tr>\n",
       "      <th>4</th>\n",
       "      <td>100009676</td>\n",
       "      <td>1.728233</td>\n",
       "      <td>1.907187</td>\n",
       "      <td>1.772074</td>\n",
       "      <td>1.624281</td>\n",
       "      <td>1.816555</td>\n",
       "      <td>1.878175</td>\n",
       "      <td>1.637512</td>\n",
       "      <td>1.710690</td>\n",
       "      <td>1.577785</td>\n",
       "      <td>...</td>\n",
       "      <td>2.598129</td>\n",
       "      <td>2.309836</td>\n",
       "      <td>2.343526</td>\n",
       "      <td>2.677604</td>\n",
       "      <td>2.299704</td>\n",
       "      <td>2.337758</td>\n",
       "      <td>2.815082</td>\n",
       "      <td>2.590416</td>\n",
       "      <td>2.605727</td>\n",
       "      <td>2.574401</td>\n",
       "    </tr>\n",
       "  </tbody>\n",
       "</table>\n",
       "<p>5 rows × 691 columns</p>\n",
       "</div>"
      ],
      "text/plain": [
       "   ENTREZ_GENE_ID  GSM2233534  GSM2233535  GSM2233537  GSM2233538  GSM2233539  \\\n",
       "0              10    1.894550    1.844536    1.407503    1.851952    1.725851   \n",
       "1             100    2.723472    2.660155    2.472315    2.179213    2.443815   \n",
       "2            1000    7.866425    7.966718    7.696251    7.666251    7.580768   \n",
       "3           10000    3.490881    3.225545    3.508853    3.770084    3.404882   \n",
       "4       100009676    1.728233    1.907187    1.772074    1.624281    1.816555   \n",
       "\n",
       "   GSM2233540  GSM2233541  GSM2233542  GSM2233544     ...      GSM2235488  \\\n",
       "0    1.752923    1.471343    1.395326    2.219697     ...        1.000000   \n",
       "1    2.617917    2.749893    2.385487    2.638806     ...        1.000000   \n",
       "2    8.220708    7.711140    8.136351    7.732809     ...        1.000000   \n",
       "3    3.562278    3.537456    4.147778    3.415148     ...        3.626186   \n",
       "4    1.878175    1.637512    1.710690    1.577785     ...        2.598129   \n",
       "\n",
       "   GSM2235490  GSM2235495  GSM2235501  GSM2235503  GSM2235504  GSM2235512  \\\n",
       "0    1.000000    1.000000    1.000000    1.000000    1.000000    1.000000   \n",
       "1    1.000000    1.000000    1.000000    1.000000    1.000000    1.000000   \n",
       "2    1.000000    1.000000    1.000000    1.000000    1.000000    1.000000   \n",
       "3    2.990150    3.002777    2.733827    4.026714    3.502457    3.413461   \n",
       "4    2.309836    2.343526    2.677604    2.299704    2.337758    2.815082   \n",
       "\n",
       "   GSM2235519  GSM2235521  GSM2235522  \n",
       "0    1.000000    1.000000    1.000000  \n",
       "1    1.000000    1.000000    1.000000  \n",
       "2    1.000000    1.000000    1.000000  \n",
       "3    3.809056    3.650891    3.679745  \n",
       "4    2.590416    2.605727    2.574401  \n",
       "\n",
       "[5 rows x 691 columns]"
      ]
     },
     "execution_count": 16,
     "metadata": {},
     "output_type": "execute_result"
    }
   ],
   "source": [
    "ADexpressionData.head()"
   ]
  },
  {
   "cell_type": "code",
   "execution_count": 17,
   "metadata": {},
   "outputs": [
    {
     "name": "stderr",
     "output_type": "stream",
     "text": [
      "/home/ranap/anaconda3/envs/BioSandbox/lib/python3.6/site-packages/ipykernel_launcher.py:1: FutureWarning: \n",
      "Passing list-likes to .loc or [] with any missing label will raise\n",
      "KeyError in the future, you can use .reindex() as an alternative.\n",
      "\n",
      "See the documentation here:\n",
      "https://pandas.pydata.org/pandas-docs/stable/indexing.html#deprecate-loc-reindex-listlike\n",
      "  \"\"\"Entry point for launching an IPython kernel.\n"
     ]
    }
   ],
   "source": [
    "ADgeoSelectedGene = ADexpressionData.set_index('ENTREZ_GENE_ID').loc[UnionGene]"
   ]
  },
  {
   "cell_type": "code",
   "execution_count": 19,
   "metadata": {
    "collapsed": true
   },
   "outputs": [],
   "source": [
    "ADgeoSelectedGene.dropna(inplace=True)"
   ]
  },
  {
   "cell_type": "code",
   "execution_count": null,
   "metadata": {
    "collapsed": true
   },
   "outputs": [],
   "source": [
    "ADgeoSelectedGene.to_csv('ADgeoSelectedGene.csv')"
   ]
  },
  {
   "cell_type": "code",
   "execution_count": null,
   "metadata": {
    "collapsed": true
   },
   "outputs": [],
   "source": []
  }
 ],
 "metadata": {
  "kernelspec": {
   "display_name": "Python 3",
   "language": "python",
   "name": "python3"
  },
  "language_info": {
   "codemirror_mode": {
    "name": "ipython",
    "version": 3
   },
   "file_extension": ".py",
   "mimetype": "text/x-python",
   "name": "python",
   "nbconvert_exporter": "python",
   "pygments_lexer": "ipython3",
   "version": "3.6.6"
  },
  "varInspector": {
   "cols": {
    "lenName": 16,
    "lenType": 16,
    "lenVar": 40
   },
   "kernels_config": {
    "python": {
     "delete_cmd_postfix": "",
     "delete_cmd_prefix": "del ",
     "library": "var_list.py",
     "varRefreshCmd": "print(var_dic_list())"
    },
    "r": {
     "delete_cmd_postfix": ") ",
     "delete_cmd_prefix": "rm(",
     "library": "var_list.r",
     "varRefreshCmd": "cat(var_dic_list()) "
    }
   },
   "types_to_exclude": [
    "module",
    "function",
    "builtin_function_or_method",
    "instance",
    "_Feature"
   ],
   "window_display": false
  }
 },
 "nbformat": 4,
 "nbformat_minor": 2
}
