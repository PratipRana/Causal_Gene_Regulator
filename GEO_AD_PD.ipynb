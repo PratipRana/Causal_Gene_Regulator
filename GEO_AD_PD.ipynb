{
 "cells": [
  {
   "cell_type": "code",
   "execution_count": null,
   "metadata": {},
   "outputs": [],
   "source": [
    "import GEOparse\n",
    "import pandas as pd\n",
    "import numpy as np"
   ]
  },
  {
   "cell_type": "code",
   "execution_count": null,
   "metadata": {},
   "outputs": [],
   "source": [
    "import pylab as pl\n",
    "import seaborn as sns\n",
    "pl.rcParams['figure.figsize'] = (14, 10)\n",
    "pl.rcParams['ytick.labelsize'] = 12\n",
    "pl.rcParams['xtick.labelsize'] = 11\n",
    "pl.rcParams['axes.labelsize'] = 23\n",
    "pl.rcParams['legend.fontsize'] = 20\n",
    "sns.set_style('ticks')\n",
    "c1, c2, c3, c4 = sns.color_palette(\"Set1\", 4)"
   ]
  },
  {
   "cell_type": "code",
   "execution_count": null,
   "metadata": {},
   "outputs": [],
   "source": [
    "gse = GEOparse.get_GEO(\"GSE84422\")"
   ]
  },
  {
   "cell_type": "code",
   "execution_count": null,
   "metadata": {},
   "outputs": [],
   "source": [
    "gse.metadata['title']"
   ]
  },
  {
   "cell_type": "code",
   "execution_count": null,
   "metadata": {},
   "outputs": [],
   "source": [
    "gse.metadata['summary']"
   ]
  },
  {
   "cell_type": "code",
   "execution_count": null,
   "metadata": {},
   "outputs": [],
   "source": [
    "gse.metadata['sample_id']"
   ]
  },
  {
   "cell_type": "code",
   "execution_count": null,
   "metadata": {},
   "outputs": [],
   "source": [
    "for gsm_name, gsm in gse.gsms.items():\n",
    "    print(\"Name: \", gsm_name)\n",
    "    print(\"Metadata:\",)\n",
    "    for key, value in gsm.metadata.items():\n",
    "        print(\" - %s : %s\" % (key, \", \".join(value)))\n",
    "    print (\"Table data:\",)\n",
    "    print (gsm.table.head())\n",
    "    break"
   ]
  },
  {
   "cell_type": "code",
   "execution_count": null,
   "metadata": {},
   "outputs": [],
   "source": [
    "pivoted_samples = gse.pivot_samples('VALUE')"
   ]
  },
  {
   "cell_type": "code",
   "execution_count": null,
   "metadata": {},
   "outputs": [],
   "source": [
    "pivoted_samples.head()"
   ]
  },
  {
   "cell_type": "code",
   "execution_count": null,
   "metadata": {},
   "outputs": [],
   "source": [
    "pivoted_samples_average = pivoted_samples.median(axis=1)\n",
    "print(\"Number of probes before filtering: \", len(pivoted_samples_average))"
   ]
  },
  {
   "cell_type": "code",
   "execution_count": null,
   "metadata": {},
   "outputs": [],
   "source": [
    "expression_threshold = pivoted_samples_average.quantile(0.25)"
   ]
  },
  {
   "cell_type": "code",
   "execution_count": null,
   "metadata": {},
   "outputs": [],
   "source": [
    "expressed_probes = pivoted_samples_average[pivoted_samples_average >= expression_threshold].index.tolist()\n",
    "print(\"Number of probes above threshold: \", len(expressed_probes))"
   ]
  },
  {
   "cell_type": "code",
   "execution_count": null,
   "metadata": {},
   "outputs": [],
   "source": [
    "samples = gse.pivot_samples(\"VALUE\").ix[expressed_probes]"
   ]
  },
  {
   "cell_type": "code",
   "execution_count": null,
   "metadata": {},
   "outputs": [],
   "source": [
    "samples.head()"
   ]
  },
  {
   "cell_type": "code",
   "execution_count": null,
   "metadata": {},
   "outputs": [],
   "source": [
    "print (gse.phenotype_data[[\"title\", \"source_name_ch1\" , \"characteristics_ch1.8.neuropathological category\"]])"
   ]
  },
  {
   "cell_type": "code",
   "execution_count": null,
   "metadata": {},
   "outputs": [],
   "source": [
    "experiments = {}\n",
    "for i, (idx, row) in enumerate(gse.phenotype_data.iterrows()):\n",
    "    tmp = {}\n",
    "    tmp[\"Experiment\"] = idx\n",
    "    tmp[\"Type\"] = row[\"characteristics_ch1.8.neuropathological category\"] \n",
    "    experiments[i] = tmp\n",
    "experiments = pd.DataFrame(experiments).T\n",
    "print (experiments)"
   ]
  },
  {
   "cell_type": "code",
   "execution_count": null,
   "metadata": {},
   "outputs": [],
   "source": [
    "for time, group in experiments.groupby(\"Type\"):\n",
    "    print(time)\n",
    "    transfection_name = group[group.Type == \"definite AD\"]"
   ]
  },
  {
   "cell_type": "code",
   "execution_count": null,
   "metadata": {},
   "outputs": [],
   "source": [
    "AD_sample = samples[transfection_name.Experiment]"
   ]
  },
  {
   "cell_type": "code",
   "execution_count": null,
   "metadata": {},
   "outputs": [],
   "source": [
    "AD_sample_annotated = AD_sample.reset_index().merge(gse.gpls['GPL570'].table[[\"ID\", \"ENTREZ_GENE_ID\"]],\n",
    "                                left_on='ID_REF', right_on=\"ID\", how='inner')\n"
   ]
  },
  {
   "cell_type": "code",
   "execution_count": null,
   "metadata": {},
   "outputs": [],
   "source": [
    "AD_sample_annotated = AD_sample_annotated.dropna(subset=[\"ENTREZ_GENE_ID\"])\n",
    "# remove probes with more than one gene assigned\n",
    "AD_sample_annotated = AD_sample_annotated[~AD_sample_annotated.ENTREZ_GENE_ID.str.contains(\"///\")]\n",
    "# for each gene average LFC over probes\n",
    "AD_sample_annotated = AD_sample_annotated.groupby(\"ENTREZ_GENE_ID\").median()"
   ]
  },
  {
   "cell_type": "code",
   "execution_count": null,
   "metadata": {},
   "outputs": [],
   "source": [
    "AD_sample_annotated.head()"
   ]
  },
  {
   "cell_type": "code",
   "execution_count": null,
   "metadata": {},
   "outputs": [],
   "source": [
    "AD_sample_annotated.tail()"
   ]
  },
  {
   "cell_type": "code",
   "execution_count": null,
   "metadata": {},
   "outputs": [],
   "source": [
    "AD_sample_annotated.shape"
   ]
  },
  {
   "cell_type": "code",
   "execution_count": null,
   "metadata": {},
   "outputs": [],
   "source": [
    "AD_sample_annotated.fillna(1)"
   ]
  },
  {
   "cell_type": "code",
   "execution_count": null,
   "metadata": {},
   "outputs": [],
   "source": [
    "AD_sample_annotated.to_csv('AD_data_GEO.csv')"
   ]
  }
 ],
 "metadata": {
  "kernelspec": {
   "display_name": "Python 3",
   "language": "python",
   "name": "python3"
  },
  "language_info": {
   "codemirror_mode": {
    "name": "ipython",
    "version": 3
   },
   "file_extension": ".py",
   "mimetype": "text/x-python",
   "name": "python",
   "nbconvert_exporter": "python",
   "pygments_lexer": "ipython3",
   "version": "3.6.6"
  }
 },
 "nbformat": 4,
 "nbformat_minor": 2
}
