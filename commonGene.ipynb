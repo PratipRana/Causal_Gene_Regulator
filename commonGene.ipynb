{
 "cells": [
  {
   "cell_type": "code",
   "execution_count": 1,
   "metadata": {
    "collapsed": true
   },
   "outputs": [],
   "source": [
    "import pandas as pd\n",
    "import numpy as np"
   ]
  },
  {
   "cell_type": "code",
   "execution_count": null,
   "metadata": {
    "collapsed": true
   },
   "outputs": [],
   "source": [
    "reportedAD = pd.read_csv('AD_gene_reported_anoted.csv')\n",
    "reportedPD = pd.read_csv('PD_gene_reported_anoted.csv')"
   ]
  },
  {
   "cell_type": "code",
   "execution_count": 8,
   "metadata": {},
   "outputs": [
    {
     "data": {
      "text/html": [
       "<div>\n",
       "<style scoped>\n",
       "    .dataframe tbody tr th:only-of-type {\n",
       "        vertical-align: middle;\n",
       "    }\n",
       "\n",
       "    .dataframe tbody tr th {\n",
       "        vertical-align: top;\n",
       "    }\n",
       "\n",
       "    .dataframe thead th {\n",
       "        text-align: right;\n",
       "    }\n",
       "</style>\n",
       "<table border=\"1\" class=\"dataframe\">\n",
       "  <thead>\n",
       "    <tr style=\"text-align: right;\">\n",
       "      <th></th>\n",
       "      <th>Unnamed: 0</th>\n",
       "      <th>SYMBOL</th>\n",
       "      <th>ENSEMBL</th>\n",
       "      <th>ENTREZID</th>\n",
       "      <th>GENENAME</th>\n",
       "    </tr>\n",
       "  </thead>\n",
       "  <tbody>\n",
       "    <tr>\n",
       "      <th>0</th>\n",
       "      <td>1</td>\n",
       "      <td>ACMSD</td>\n",
       "      <td>ENSG00000153086</td>\n",
       "      <td>130013.0</td>\n",
       "      <td>aminocarboxymuconate semialdehyde decarboxylase</td>\n",
       "    </tr>\n",
       "    <tr>\n",
       "      <th>1</th>\n",
       "      <td>2</td>\n",
       "      <td>ACMSD-TMEM163</td>\n",
       "      <td>NaN</td>\n",
       "      <td>NaN</td>\n",
       "      <td>NaN</td>\n",
       "    </tr>\n",
       "    <tr>\n",
       "      <th>2</th>\n",
       "      <td>3</td>\n",
       "      <td>ALAS1</td>\n",
       "      <td>ENSG00000023330</td>\n",
       "      <td>211.0</td>\n",
       "      <td>5'-aminolevulinate synthase 1</td>\n",
       "    </tr>\n",
       "    <tr>\n",
       "      <th>3</th>\n",
       "      <td>4</td>\n",
       "      <td>ANK2</td>\n",
       "      <td>ENSG00000145362</td>\n",
       "      <td>287.0</td>\n",
       "      <td>ankyrin 2</td>\n",
       "    </tr>\n",
       "    <tr>\n",
       "      <th>4</th>\n",
       "      <td>5</td>\n",
       "      <td>ATP6V0A1</td>\n",
       "      <td>ENSG00000033627</td>\n",
       "      <td>535.0</td>\n",
       "      <td>ATPase H+ transporting V0 subunit a1</td>\n",
       "    </tr>\n",
       "  </tbody>\n",
       "</table>\n",
       "</div>"
      ],
      "text/plain": [
       "   Unnamed: 0         SYMBOL          ENSEMBL  ENTREZID  \\\n",
       "0           1          ACMSD  ENSG00000153086  130013.0   \n",
       "1           2  ACMSD-TMEM163              NaN       NaN   \n",
       "2           3          ALAS1  ENSG00000023330     211.0   \n",
       "3           4           ANK2  ENSG00000145362     287.0   \n",
       "4           5       ATP6V0A1  ENSG00000033627     535.0   \n",
       "\n",
       "                                          GENENAME  \n",
       "0  aminocarboxymuconate semialdehyde decarboxylase  \n",
       "1                                              NaN  \n",
       "2                    5'-aminolevulinate synthase 1  \n",
       "3                                        ankyrin 2  \n",
       "4             ATPase H+ transporting V0 subunit a1  "
      ]
     },
     "execution_count": 8,
     "metadata": {},
     "output_type": "execute_result"
    }
   ],
   "source": [
    "reportedPD.head()"
   ]
  },
  {
   "cell_type": "code",
   "execution_count": 10,
   "metadata": {},
   "outputs": [
    {
     "data": {
      "text/html": [
       "<div>\n",
       "<style scoped>\n",
       "    .dataframe tbody tr th:only-of-type {\n",
       "        vertical-align: middle;\n",
       "    }\n",
       "\n",
       "    .dataframe tbody tr th {\n",
       "        vertical-align: top;\n",
       "    }\n",
       "\n",
       "    .dataframe thead th {\n",
       "        text-align: right;\n",
       "    }\n",
       "</style>\n",
       "<table border=\"1\" class=\"dataframe\">\n",
       "  <thead>\n",
       "    <tr style=\"text-align: right;\">\n",
       "      <th></th>\n",
       "      <th>Unnamed: 0_x</th>\n",
       "      <th>SYMBOL</th>\n",
       "      <th>ENSEMBL_x</th>\n",
       "      <th>ENTREZID_x</th>\n",
       "      <th>GENENAME_x</th>\n",
       "      <th>Unnamed: 0_y</th>\n",
       "      <th>ENSEMBL_y</th>\n",
       "      <th>ENTREZID_y</th>\n",
       "      <th>GENENAME_y</th>\n",
       "    </tr>\n",
       "  </thead>\n",
       "  <tbody>\n",
       "  </tbody>\n",
       "</table>\n",
       "</div>"
      ],
      "text/plain": [
       "Empty DataFrame\n",
       "Columns: [Unnamed: 0_x, SYMBOL, ENSEMBL_x, ENTREZID_x, GENENAME_x, Unnamed: 0_y, ENSEMBL_y, ENTREZID_y, GENENAME_y]\n",
       "Index: []"
      ]
     },
     "execution_count": 10,
     "metadata": {},
     "output_type": "execute_result"
    }
   ],
   "source": [
    "reportedAD.merge(reportedPD, left_on='SYMBOL', right_on='SYMBOL', how='inner')"
   ]
  },
  {
   "cell_type": "code",
   "execution_count": 11,
   "metadata": {},
   "outputs": [
    {
     "data": {
      "text/html": [
       "<div>\n",
       "<style scoped>\n",
       "    .dataframe tbody tr th:only-of-type {\n",
       "        vertical-align: middle;\n",
       "    }\n",
       "\n",
       "    .dataframe tbody tr th {\n",
       "        vertical-align: top;\n",
       "    }\n",
       "\n",
       "    .dataframe thead th {\n",
       "        text-align: right;\n",
       "    }\n",
       "</style>\n",
       "<table border=\"1\" class=\"dataframe\">\n",
       "  <thead>\n",
       "    <tr style=\"text-align: right;\">\n",
       "      <th></th>\n",
       "      <th>Unnamed: 0_x</th>\n",
       "      <th>SYMBOL_x</th>\n",
       "      <th>ENSEMBL_x</th>\n",
       "      <th>ENTREZID</th>\n",
       "      <th>GENENAME_x</th>\n",
       "      <th>Unnamed: 0_y</th>\n",
       "      <th>SYMBOL_y</th>\n",
       "      <th>ENSEMBL_y</th>\n",
       "      <th>GENENAME_y</th>\n",
       "    </tr>\n",
       "  </thead>\n",
       "  <tbody>\n",
       "  </tbody>\n",
       "</table>\n",
       "</div>"
      ],
      "text/plain": [
       "Empty DataFrame\n",
       "Columns: [Unnamed: 0_x, SYMBOL_x, ENSEMBL_x, ENTREZID, GENENAME_x, Unnamed: 0_y, SYMBOL_y, ENSEMBL_y, GENENAME_y]\n",
       "Index: []"
      ]
     },
     "execution_count": 11,
     "metadata": {},
     "output_type": "execute_result"
    }
   ],
   "source": [
    "reportedAD = reportedAD.dropna()\n",
    "reportedPD = reportedPD.dropna()\n",
    "reportedAD.merge(reportedPD, left_on='ENTREZID', right_on='ENTREZID', how='inner')"
   ]
  },
  {
   "cell_type": "code",
   "execution_count": 12,
   "metadata": {},
   "outputs": [
    {
     "name": "stdout",
     "output_type": "stream",
     "text": [
      "/home/ranap/Causal_Gene_Regulator\r\n"
     ]
    }
   ],
   "source": [
    "!pwd"
   ]
  },
  {
   "cell_type": "code",
   "execution_count": 2,
   "metadata": {
    "collapsed": true
   },
   "outputs": [],
   "source": [
    "AD1 = pd.read_csv('cluster_summary_Net_AD_Cluste0.csv')\n",
    "AD2 = pd.read_csv('cluster_summary_Net_AD_Cluste1.csv')\n",
    "AD3 = pd.read_csv('cluster_summary_Net_AD_Cluste2.csv')\n",
    "AD4 = pd.read_csv('cluster_summary_Net_AD_Cluste3.csv')\n",
    "AD5 = pd.read_csv('cluster_summary_Net_AD_Cluste4.csv')\n",
    "AD6 = pd.read_csv('cluster_summary_Net_AD_Cluste5.csv')"
   ]
  },
  {
   "cell_type": "code",
   "execution_count": 3,
   "metadata": {
    "collapsed": true
   },
   "outputs": [],
   "source": [
    "PD1 = pd.read_csv('cluster_summary_Net_PD_Cluste0.csv')\n",
    "PD2 = pd.read_csv('cluster_summary_Net_PD_Cluste1.csv')\n",
    "PD3 = pd.read_csv('cluster_summary_Net_PD_Cluste2.csv')\n",
    "PD4 = pd.read_csv('cluster_summary_Net_PD_Cluste3.csv')"
   ]
  },
  {
   "cell_type": "code",
   "execution_count": 4,
   "metadata": {},
   "outputs": [
    {
     "data": {
      "text/html": [
       "<div>\n",
       "<style scoped>\n",
       "    .dataframe tbody tr th:only-of-type {\n",
       "        vertical-align: middle;\n",
       "    }\n",
       "\n",
       "    .dataframe tbody tr th {\n",
       "        vertical-align: top;\n",
       "    }\n",
       "\n",
       "    .dataframe thead th {\n",
       "        text-align: right;\n",
       "    }\n",
       "</style>\n",
       "<table border=\"1\" class=\"dataframe\">\n",
       "  <thead>\n",
       "    <tr style=\"text-align: right;\">\n",
       "      <th></th>\n",
       "      <th>Unnamed: 0</th>\n",
       "      <th>ID</th>\n",
       "      <th>Description</th>\n",
       "      <th>GeneRatio</th>\n",
       "      <th>BgRatio</th>\n",
       "      <th>pvalue</th>\n",
       "      <th>p.adjust</th>\n",
       "      <th>qvalue</th>\n",
       "      <th>geneID</th>\n",
       "      <th>Count</th>\n",
       "    </tr>\n",
       "  </thead>\n",
       "  <tbody>\n",
       "    <tr>\n",
       "      <th>0</th>\n",
       "      <td>GO:1902430</td>\n",
       "      <td>GO:1902430</td>\n",
       "      <td>negative regulation of amyloid-beta formation</td>\n",
       "      <td>3/25</td>\n",
       "      <td>10/18493</td>\n",
       "      <td>2.602524e-07</td>\n",
       "      <td>2.602524e-07</td>\n",
       "      <td>0.000148</td>\n",
       "      <td>274/6653/1191</td>\n",
       "      <td>3</td>\n",
       "    </tr>\n",
       "    <tr>\n",
       "      <th>1</th>\n",
       "      <td>GO:1902992</td>\n",
       "      <td>GO:1902992</td>\n",
       "      <td>negative regulation of amyloid precursor prote...</td>\n",
       "      <td>3/25</td>\n",
       "      <td>12/18493</td>\n",
       "      <td>4.762783e-07</td>\n",
       "      <td>4.762783e-07</td>\n",
       "      <td>0.000148</td>\n",
       "      <td>274/6653/1191</td>\n",
       "      <td>3</td>\n",
       "    </tr>\n",
       "    <tr>\n",
       "      <th>2</th>\n",
       "      <td>GO:0042982</td>\n",
       "      <td>GO:0042982</td>\n",
       "      <td>amyloid precursor protein metabolic process</td>\n",
       "      <td>4/25</td>\n",
       "      <td>49/18493</td>\n",
       "      <td>5.281122e-07</td>\n",
       "      <td>5.281122e-07</td>\n",
       "      <td>0.000148</td>\n",
       "      <td>274/27065/6653/1191</td>\n",
       "      <td>4</td>\n",
       "    </tr>\n",
       "    <tr>\n",
       "      <th>3</th>\n",
       "      <td>GO:1902003</td>\n",
       "      <td>GO:1902003</td>\n",
       "      <td>regulation of amyloid-beta formation</td>\n",
       "      <td>3/25</td>\n",
       "      <td>19/18493</td>\n",
       "      <td>2.084723e-06</td>\n",
       "      <td>2.084723e-06</td>\n",
       "      <td>0.000437</td>\n",
       "      <td>274/6653/1191</td>\n",
       "      <td>3</td>\n",
       "    </tr>\n",
       "    <tr>\n",
       "      <th>4</th>\n",
       "      <td>GO:1902991</td>\n",
       "      <td>GO:1902991</td>\n",
       "      <td>regulation of amyloid precursor protein catabo...</td>\n",
       "      <td>3/25</td>\n",
       "      <td>24/18493</td>\n",
       "      <td>4.335079e-06</td>\n",
       "      <td>4.335079e-06</td>\n",
       "      <td>0.000687</td>\n",
       "      <td>274/6653/1191</td>\n",
       "      <td>3</td>\n",
       "    </tr>\n",
       "  </tbody>\n",
       "</table>\n",
       "</div>"
      ],
      "text/plain": [
       "   Unnamed: 0          ID                                        Description  \\\n",
       "0  GO:1902430  GO:1902430      negative regulation of amyloid-beta formation   \n",
       "1  GO:1902992  GO:1902992  negative regulation of amyloid precursor prote...   \n",
       "2  GO:0042982  GO:0042982        amyloid precursor protein metabolic process   \n",
       "3  GO:1902003  GO:1902003               regulation of amyloid-beta formation   \n",
       "4  GO:1902991  GO:1902991  regulation of amyloid precursor protein catabo...   \n",
       "\n",
       "  GeneRatio   BgRatio        pvalue      p.adjust    qvalue  \\\n",
       "0      3/25  10/18493  2.602524e-07  2.602524e-07  0.000148   \n",
       "1      3/25  12/18493  4.762783e-07  4.762783e-07  0.000148   \n",
       "2      4/25  49/18493  5.281122e-07  5.281122e-07  0.000148   \n",
       "3      3/25  19/18493  2.084723e-06  2.084723e-06  0.000437   \n",
       "4      3/25  24/18493  4.335079e-06  4.335079e-06  0.000687   \n",
       "\n",
       "                geneID  Count  \n",
       "0        274/6653/1191      3  \n",
       "1        274/6653/1191      3  \n",
       "2  274/27065/6653/1191      4  \n",
       "3        274/6653/1191      3  \n",
       "4        274/6653/1191      3  "
      ]
     },
     "execution_count": 4,
     "metadata": {},
     "output_type": "execute_result"
    }
   ],
   "source": [
    "AD1.head()"
   ]
  },
  {
   "cell_type": "code",
   "execution_count": 5,
   "metadata": {},
   "outputs": [
    {
     "data": {
      "text/plain": [
       "0.0"
      ]
     },
     "execution_count": 5,
     "metadata": {},
     "output_type": "execute_result"
    }
   ],
   "source": [
    "len(AD1.merge(AD2, left_on='ID', right_on='ID', how='inner'))/len(AD1.merge(AD2, left_on='ID', right_on='ID', how='outer'))"
   ]
  },
  {
   "cell_type": "code",
   "execution_count": 6,
   "metadata": {
    "collapsed": true
   },
   "outputs": [],
   "source": [
    "A=np.empty([10,10])\n",
    "for index_i, i in enumerate([AD1, AD2, AD3, AD4, AD5, AD6, PD1, PD2, PD3, PD4]):\n",
    "    for index_j, j in enumerate([AD1, AD2, AD3, AD4, AD5, AD6, PD1, PD2, PD3, PD4]):\n",
    "        A[index_i,index_j] = len(i.merge(j, left_on='ID', right_on='ID', how='inner'))/len(i.merge(j, left_on='ID', right_on='ID', how='outer'))"
   ]
  },
  {
   "cell_type": "code",
   "execution_count": 7,
   "metadata": {},
   "outputs": [
    {
     "data": {
      "text/plain": [
       "array([[ 1.        ,  0.        ,  0.        ,  0.        ,  0.00461894,\n",
       "         0.        ,  0.        ,  0.01877934,  0.        ,  0.        ],\n",
       "       [ 0.        ,  1.        ,  0.        ,  0.03448276,  0.        ,\n",
       "         0.        ,  0.        ,  0.        ,  0.0625    ,  0.        ],\n",
       "       [ 0.        ,  0.        ,  1.        ,  0.        ,  0.        ,\n",
       "         0.        ,  0.        ,  0.        ,  0.        ,  0.        ],\n",
       "       [ 0.        ,  0.03448276,  0.        ,  1.        ,  0.        ,\n",
       "         0.        ,  0.        ,  0.        ,  0.        ,  0.        ],\n",
       "       [ 0.00461894,  0.        ,  0.        ,  0.        ,  1.        ,\n",
       "         0.        ,  0.        ,  0.        ,  0.        ,  0.        ],\n",
       "       [ 0.        ,  0.        ,  0.        ,  0.        ,  0.        ,\n",
       "         1.        ,  0.        ,  0.        ,  0.        ,  0.        ],\n",
       "       [ 0.        ,  0.        ,  0.        ,  0.        ,  0.        ,\n",
       "         0.        ,  1.        ,  0.        ,  0.        ,  0.25      ],\n",
       "       [ 0.01877934,  0.        ,  0.        ,  0.        ,  0.        ,\n",
       "         0.        ,  0.        ,  1.        ,  0.        ,  0.03448276],\n",
       "       [ 0.        ,  0.0625    ,  0.        ,  0.        ,  0.        ,\n",
       "         0.        ,  0.        ,  0.        ,  1.        ,  0.        ],\n",
       "       [ 0.        ,  0.        ,  0.        ,  0.        ,  0.        ,\n",
       "         0.        ,  0.25      ,  0.03448276,  0.        ,  1.        ]])"
      ]
     },
     "execution_count": 7,
     "metadata": {},
     "output_type": "execute_result"
    }
   ],
   "source": [
    "A"
   ]
  },
  {
   "cell_type": "code",
   "execution_count": 7,
   "metadata": {
    "collapsed": true
   },
   "outputs": [],
   "source": [
    "from matplotlib import rc\n",
    "import matplotlib.pyplot as plt\n",
    "import seaborn as snp\n",
    "\n",
    "# Set the global font to be DejaVu Sans, size 10 (or any other sans-serif font of your choice!)\n",
    "rc('font',**{'family':'sans-serif','sans-serif':['DejaVu Sans'],'size':20, 'weight': 'bold'})\n",
    "\n",
    "# Set the font used for MathJax - more on this later\n",
    "rc('mathtext',**{'default':'regular'})\n"
   ]
  },
  {
   "cell_type": "code",
   "execution_count": 8,
   "metadata": {
    "collapsed": true
   },
   "outputs": [],
   "source": [
    "%matplotlib inline\n",
    "\n",
    "# The following %config line changes the inline figures to have a higher DPI.\n",
    "# You can comment out (#) this line if you don't have a high-DPI (~220) display.\n",
    "%config InlineBackend.figure_format = 'retina'"
   ]
  },
  {
   "cell_type": "code",
   "execution_count": 10,
   "metadata": {},
   "outputs": [
    {
     "data": {
      "image/png": "[encoded data removed]",
      "text/plain": [
       "<Figure size 432x288 with 2 Axes>"
      ]
     },
     "metadata": {
      "image/png": {
       "height": 252,
       "width": 358
      },
      "needs_background": "light"
     },
     "output_type": "display_data"
    }
   ],
   "source": [
    "np.fill_diagonal(A,0)\n",
    "ax = snp.heatmap(A, cmap = snp.light_palette(\"green\", 10), linecolor='gold',linewidth=0.5)\n",
    "plt.show()"
   ]
  },
  {
   "cell_type": "code",
   "execution_count": 11,
   "metadata": {
    "collapsed": true
   },
   "outputs": [],
   "source": [
    "fig = ax.get_figure()\n",
    "fig.savefig('Fig_cluster' + '.png', dpi=300, bbox_inches='tight', transparent=False)"
   ]
  },
  {
   "cell_type": "code",
   "execution_count": 12,
   "metadata": {},
   "outputs": [
    {
     "name": "stdout",
     "output_type": "stream",
     "text": [
      "/home/ranap/Causal_Gene_Regulator\r\n"
     ]
    }
   ],
   "source": [
    "!pwd"
   ]
  },
  {
   "cell_type": "code",
   "execution_count": null,
   "metadata": {
    "collapsed": true
   },
   "outputs": [],
   "source": []
  }
 ],
 "metadata": {
  "kernelspec": {
   "display_name": "Python 3",
   "language": "python",
   "name": "python3"
  },
  "language_info": {
   "codemirror_mode": {
    "name": "ipython",
    "version": 3
   },
   "file_extension": ".py",
   "mimetype": "text/x-python",
   "name": "python",
   "nbconvert_exporter": "python",
   "pygments_lexer": "ipython3",
   "version": "3.6.6"
  },
  "varInspector": {
   "cols": {
    "lenName": 16,
    "lenType": 16,
    "lenVar": 40
   },
   "kernels_config": {
    "python": {
     "delete_cmd_postfix": "",
     "delete_cmd_prefix": "del ",
     "library": "var_list.py",
     "varRefreshCmd": "print(var_dic_list())"
    },
    "r": {
     "delete_cmd_postfix": ") ",
     "delete_cmd_prefix": "rm(",
     "library": "var_list.r",
     "varRefreshCmd": "cat(var_dic_list()) "
    }
   },
   "types_to_exclude": [
    "module",
    "function",
    "builtin_function_or_method",
    "instance",
    "_Feature"
   ],
   "window_display": false
  }
 },
 "nbformat": 4,
 "nbformat_minor": 2
}
